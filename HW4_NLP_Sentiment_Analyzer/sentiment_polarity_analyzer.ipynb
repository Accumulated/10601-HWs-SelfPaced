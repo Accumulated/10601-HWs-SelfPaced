{
  "nbformat": 4,
  "nbformat_minor": 0,
  "metadata": {
    "colab": {
      "name": "HW4.ipynb",
      "provenance": [],
      "collapsed_sections": []
    },
    "kernelspec": {
      "name": "python3",
      "display_name": "Python 3"
    },
    "language_info": {
      "name": "python"
    }
  },
  "cells": [
    {
      "cell_type": "code",
      "metadata": {
        "id": "0_4l2i0o8kmE",
        "colab": {
          "base_uri": "https://localhost:8080/",
          "height": 238
        },
        "outputId": "806bf45b-0437-481e-bb0b-87cd605d1774"
      },
      "source": [
        "import pandas as pd\n",
        "import matplotlib.pyplot as plt  \n",
        "import numpy as np\n",
        "import csv\n",
        "\n",
        "np.set_printoptions(precision=10)\n",
        "import sys\n",
        "import random\n",
        "from random import seed\n",
        "from random import randint\n",
        "from sklearn.metrics import accuracy_score\n",
        "from bs4 import BeautifulSoup\n",
        "\n",
        "from random import randrange\n",
        "\n",
        "pd.option_context('display.max_rows', None, 'display.max_columns', None)  # more options can be specified also\n",
        "np.set_printoptions(threshold=sys.maxsize)\n",
        "seed(1)\n",
        "\n",
        "np.set_printoptions(precision=10, )\n",
        "pd.options.display.float_format = '{:.2f}'.format\n",
        "np.set_printoptions(suppress=True)\n",
        "%precision 10\n",
        "\n",
        "%precision 10\n",
        "!cp -r /content/drive/MyDrive/10601_DataSets /content\n",
        "\n",
        "''' Assignment Data description: \n",
        "  A one line per example format consisting of the label 0 or 1 in the first column followed by\n",
        "  all the words in the movie review (with none of the line breaks) in the second column.\n",
        "\n",
        "  Each data point consists of a label (0 for negatives and 1 for positives) and a attribute \n",
        "  (a set of words as a whole). \n",
        "  \n",
        "  In the attribute, words are separated using white-space (punctuations are also separated with whitespace).\n",
        "  All characters are lowercased. No fancy pre-processing on the plain text is needed.\n",
        "\n",
        "  The data files are in tab-separated-value (.tsv) format. This is identical to a comma-separated-value\n",
        "  (.csv) format except that instead of separating columns with commas, we separate them with a tab character,\n",
        "  \\t. \n",
        "  Each row is ended by a Unix style line ending, \\n. The first column always contains the label and\n",
        "  the second column the set of words: label\\tword1 word2 word3 ... wordN\\n.\n",
        "\n",
        "  A dictionary file (dict.txt) to limit the vocabulary to be considered in this assignments. \n",
        "  Actually, this dictionary is constructed from the training data. \n",
        "  \n",
        "  Examples of the dictionary content are as follows, where the second column is the index of\n",
        "  the word. Column one and column two are separated with white-space. \n",
        "\n",
        "  Each line in dict.txt has the format: word index\\n.\n",
        "\n",
        "'''"
      ],
      "execution_count": null,
      "outputs": [
        {
          "output_type": "execute_result",
          "data": {
            "application/vnd.google.colaboratory.intrinsic+json": {
              "type": "string"
            },
            "text/plain": [
              "' Assignment Data description: \\n  A one line per example format consisting of the label 0 or 1 in the first column followed by\\n  all the words in the movie review (with none of the line breaks) in the second column.\\n\\n  Each data point consists of a label (0 for negatives and 1 for positives) and a attribute \\n  (a set of words as a whole). \\n  \\n  In the attribute, words are separated using white-space (punctuations are also separated with whitespace).\\n  All characters are lowercased. No fancy pre-processing on the plain text is needed.\\n\\n  The data files are in tab-separated-value (.tsv) format. This is identical to a comma-separated-value\\n  (.csv) format except that instead of separating columns with commas, we separate them with a tab character,\\n  \\t. \\n  Each row is ended by a Unix style line ending, \\n. The first column always contains the label and\\n  the second column the set of words: label\\tword1 word2 word3 ... wordN\\n.\\n\\n  A dictionary file (dict.txt) to limit the vocabulary to be considered in this assignments. \\n  Actually, this dictionary is constructed from the training data. \\n  \\n  Examples of the dictionary content are as follows, where the second column is the index of\\n  the word. Column one and column two are separated with white-space. \\n\\n  Each line in dict.txt has the format: word index\\n.\\n\\n'"
            ]
          },
          "metadata": {},
          "execution_count": 29
        }
      ]
    },
    {
      "cell_type": "code",
      "metadata": {
        "id": "re6QsZg-ECfp",
        "colab": {
          "base_uri": "https://localhost:8080/"
        },
        "outputId": "c94c2a7f-dcf4-41bc-dbf4-e6810834908b"
      },
      "source": [
        "col_names = [\"Label\", \"words\"]\n",
        "large_train = pd.read_csv('/content/10601_DataSets/HW4/largedata/train_data.tsv', names=col_names, sep= '\\t', header=None)\n",
        "large_valid = pd.read_csv('/content/10601_DataSets/HW4/largedata/valid_data.tsv', names=col_names, sep= '\\t', header=None)\n",
        "large_test = pd.read_csv('/content/10601_DataSets/HW4/largedata/test_data.tsv', names=col_names, sep= '\\t', header=None)\n",
        "\n",
        "print(\"Training data shape: \", large_train.shape)\n",
        "print(\"validation data shape: \", large_valid.shape)\n",
        "print(\"test data shape: \", large_test.shape)"
      ],
      "execution_count": null,
      "outputs": [
        {
          "output_type": "stream",
          "name": "stdout",
          "text": [
            "Training data shape:  (1200, 2)\n",
            "validation data shape:  (200, 2)\n",
            "test data shape:  (400, 2)\n"
          ]
        }
      ]
    },
    {
      "cell_type": "code",
      "metadata": {
        "colab": {
          "base_uri": "https://localhost:8080/",
          "height": 238
        },
        "id": "Z-NJYZlMG7Tm",
        "outputId": "9c0f8aaa-2b11-4a6e-9a89-94bf3d39b1c0"
      },
      "source": [
        "large_train['words'][0]"
      ],
      "execution_count": null,
      "outputs": [
        {
          "output_type": "execute_result",
          "data": {
            "application/vnd.google.colaboratory.intrinsic+json": {
              "type": "string"
            },
            "text/plain": [
              "'films adapted from comic books have had plenty of success , whether they\\'re about superheroes ( batman , superman , spawn ) , or geared toward kids ( casper ) or the arthouse crowd ( ghost world ) , but there\\'s never really been a comic book like from hell before . for starters , it was created by alan moore ( and eddie campbell ) , who brought the medium to a whole new level in the mid \\'80s with a 12-part series called the watchmen . to say moore and campbell thoroughly researched the subject of jack the ripper would be like saying michael jackson is starting to look a little odd . the book ( or \" graphic novel , \" if you will ) is over 500 pages long and includes nearly 30 more that consist of nothing but footnotes . in other words , don\\'t dismiss this film because of its source . if you can get past the whole comic book thing , you might find another stumbling block in from hell\\'s directors , albert and allen hughes . getting the hughes brothers to direct this seems almost as ludicrous as casting carrot top in , well , anything , but riddle me this : who better to direct a film that\\'s set in the ghetto and features really violent street crime than the mad geniuses behind menace ii society ? the ghetto in question is , of course , whitechapel in 1888 london\\'s east end . it\\'s a filthy , sooty place where the whores ( called \" unfortunates \" ) are starting to get a little nervous about this mysterious psychopath who has been carving through their profession with surgical precision . when the first stiff turns up , copper peter godley ( robbie coltrane , the world is not enough ) calls in inspector frederick abberline ( johnny depp , blow ) to crack the case . abberline , a widower , has prophetic dreams he unsuccessfully tries to quell with copious amounts of absinthe and opium . upon arriving in whitechapel , he befriends an unfortunate named mary kelly ( heather graham , say it isn\\'t so ) and proceeds to investigate the horribly gruesome crimes that even the police surgeon can\\'t stomach . i don\\'t think anyone needs to be briefed on jack the ripper , so i won\\'t go into the particulars here , other than to say moore and campbell have a unique and interesting theory about both the identity of the killer and the reasons he chooses to slay . in the comic , they don\\'t bother cloaking the identity of the ripper , but screenwriters terry hayes ( vertical limit ) and rafael yglesias ( les mis ? rables ) do a good job of keeping him hidden from viewers until the very end . it\\'s funny to watch the locals blindly point the finger of blame at jews and indians because , after all , an englishman could never be capable of committing such ghastly acts . and from hell\\'s ending had me whistling the stonecutters song from the simpsons for days ( \" who holds back the electric car/who made steve guttenberg a star ? \" ) . don\\'t worry - it\\'ll all make sense when you see it . now onto from hell\\'s appearance : it\\'s certainly dark and bleak enough , and it\\'s surprising to see how much more it looks like a tim burton film than planet of the apes did ( at times , it seems like sleepy hollow 2 ) . the print i saw wasn\\'t completely finished ( both color and music had not been finalized , so no comments about marilyn manson ) , but cinematographer peter deming ( don\\'t say a word ) ably captures the dreariness of victorian-era london and helped make the flashy killing scenes remind me of the crazy flashbacks in twin peaks , even though the violence in the film pales in comparison to that in the black-and-white comic . oscar winner martin childs\\' ( shakespeare in love ) production design turns the original prague surroundings into one creepy place . even the acting in from hell is solid , with the dreamy depp turning in a typically strong performance and deftly handling a british accent . ians holm ( joe gould\\'s secret ) and richardson ( 102 dalmatians ) log in great supporting roles , but the big surprise here is graham . i cringed the first time she opened her mouth , imagining her attempt at an irish accent , but it actually wasn\\'t half bad . the film , however , is all good . 2 : 00 - r for strong violence/gore , sexuality , language and drug content '"
            ]
          },
          "metadata": {},
          "execution_count": 31
        }
      ]
    },
    {
      "cell_type": "code",
      "metadata": {
        "colab": {
          "base_uri": "https://localhost:8080/"
        },
        "id": "CdBZ1mcmDId6",
        "outputId": "bb5a61b4-ef56-4db8-a2b0-2605fe2448ad"
      },
      "source": [
        "col_names = ['word', 'index']\n",
        "dict_DF = pd.read_csv('/content/10601_DataSets/HW4/dict.txt', names=col_names, sep= ' ', header=None)\n",
        "dict_DF.head()\n",
        "print(\"Dictionary shape: \", dict_DF.shape)\n",
        "BOW = dict_DF.set_index('word')['index'].to_dict()\n",
        "parameter_size = dict_DF.shape[0] + 1"
      ],
      "execution_count": null,
      "outputs": [
        {
          "output_type": "stream",
          "name": "stdout",
          "text": [
            "Dictionary shape:  (39176, 2)\n"
          ]
        }
      ]
    },
    {
      "cell_type": "code",
      "metadata": {
        "id": "q_85Ulg-IBMu"
      },
      "source": [
        "def modified_sigmoid(w_sig, x_sig):\n",
        "  '''\n",
        "  Compute sigmoid(w.T* x) equation and return the result. Note that\n",
        "  the bias term is embedded inside the w vector\n",
        "  '''\n",
        "  return 1 / (1 + np.exp(-1 * dot_product(w_sig.T, x_sig)))\n",
        "\n",
        "def dot_product(param, tr_exmp):\n",
        "  '''\n",
        "    tr_exmp: list of (index:value) pairs, where value is always 1.\n",
        "    param: a vector with dimension ~ 40000\n",
        "    This function manually calculates the dot product of finite number \n",
        "    of parameters only \n",
        "  '''\n",
        "  tmp = 0\n",
        "  for pair in tr_exmp:\n",
        "    index = int(pair.split(':')[0])\n",
        "    tmp += param[0][index]\n",
        "\n",
        "  return tmp\n",
        "\n",
        "def SGD_update(theta_tr, x_train, y_train, learning_rate):\n",
        "  '''\n",
        "    This function updates the parameters for logistic regression binary\n",
        "    classification. \n",
        "\n",
        "    The update rule: \n",
        "    Theta_j = Theta_j + eta * x(i)_j * [y(i) - sigmoid(Theta.T * x(i) * exp(Theta.T * x(i)))]\n",
        "    (1 x 1) = (1 x 1) + eta * (1 x 1) * [(1 x 1) - sigmoid(1 x 1) * exp(1 x 1)]\n",
        "\n",
        "    For vectorization: \n",
        "    Theta = Theta + eta * x(i) * [y(i) - sigmoid(Theta.T * x(i) * exp(Theta.T * x(i)))]\n",
        "    ((M + 1) x 1) = ((M + 1) x 1) + eta * ((M + 1) x 1) * [(1 x 1) -sigmoid(1 x 1) * exp(1 x 1)]\n",
        "\n",
        "    Theta: (M + 1) x 1 parameters for the model\n",
        "    X: Training data with shape (N x (M + 1))\n",
        "    y: Training labels with shape (n x 1)\n",
        "\n",
        "    Input: \n",
        "    x_train: it is the training example we use to update the parameters, It's a list of indexes\n",
        "    y_train: The corresponding label\n",
        "    theta_tr: Theta matrix to update its parameters\n",
        "\n",
        "    Return: Theta matrix ((M + 1) x 1)\n",
        "  '''\n",
        "  update_term = -1 * learning_rate * (modified_sigmoid(theta_tr, x_train) - y_train)\n",
        "\n",
        "  for pair in x_train:\n",
        "    index = int(pair.split(':')[0])\n",
        "    theta_tr[index] = theta_tr[index] + update_term\n",
        "\n",
        "  return theta_tr"
      ],
      "execution_count": null,
      "outputs": []
    },
    {
      "cell_type": "code",
      "metadata": {
        "id": "5MYaKs2JLQUJ"
      },
      "source": [
        "def get_random(exec_dict):\n",
        "  \n",
        "  random_num = random.randint(0, 1199)\n",
        "\n",
        "  # Check to see if we already chosen this random number\n",
        "  while exec_dict.get(random_num, -1) != -1:\n",
        "    random_num = random.randint(0, 1199)\n",
        "\n",
        "  return random_num\n",
        "\n",
        "def calculate_cross_entropy_loss(df_dt, theta_tmp):\n",
        "\n",
        "  '''\n",
        "    This function calculates the cross entropy error in the form of:\n",
        "    E(w) = -ln(p(t|w)) = - Sum from i = 1 to N {tn * ln(yn) + (1 - tn) * ln(1- yn)}\n",
        "  '''\n",
        "  tmp = 0\n",
        "\n",
        "  for index, row in df_dt.iterrows():\n",
        "\n",
        "    # Get target value\n",
        "    target = int(row['Label'])\n",
        "    \n",
        "    # Get sigmoid term\n",
        "    predict = modified_sigmoid(theta_tmp, row['features'].split(', '))\n",
        "\n",
        "    # Calculate the equation\n",
        "    if np.log(predict) == 0:\n",
        "      tmp += (0)\n",
        "    else: \n",
        "      tmp += (target * np.log(predict) + (1 - target) * np.log(1 - predict))\n",
        "  \n",
        "  return -1 * tmp / df_dt.shape[0]"
      ],
      "execution_count": null,
      "outputs": []
    },
    {
      "cell_type": "code",
      "metadata": {
        "id": "M-5WVUVhXzQC"
      },
      "source": [
        "def train_logistic_regression(df_data_train, df_data_valid, epochs, choice_shuffle, learning_r):\n",
        "\n",
        "  # Initialize parameters to be zeros\n",
        "  theta = np.zeros([parameter_size, 1])\n",
        "\n",
        "  CrossEntropyList = []\n",
        "\n",
        "  if choice_shuffle == 'shuffle':\n",
        "    execlude_dict = {}\n",
        "    for epoch in range(0, epochs):\n",
        "      \n",
        "      execlude_dict = {}\n",
        "      \n",
        "      # for index, row in df_data_train.iterrows():\n",
        "      for i in range(0, df_data_train.shape[0]):\n",
        "        \n",
        "        # # Get a random training example\n",
        "        tr_random = get_random(execlude_dict)\n",
        "\n",
        "        # # Execlude this training example from being chosen again\n",
        "        execlude_dict[tr_random] = 1\n",
        "\n",
        "        # take i to be number of example to use, this SGD is without shuffling\n",
        "        # Send list of (index: value) pair as training example\n",
        "        theta = SGD_update(theta, df_data_train['features'][tr_random].split(', '), int(df_data_train['Label'][tr_random]), learning_r)\n",
        "        \n",
        "      CrossEntropyList.append(calculate_cross_entropy_loss(df_data_valid, theta))\n",
        "\n",
        "  else:\n",
        "    for epoch in range(0, epochs):\n",
        "      for index, row in df_data_train.iterrows():\n",
        "        # take i to be number of example to use, this SGD is without shuffling\n",
        "        # Send list of (index: value) pair as training example\n",
        "        theta = SGD_update(theta, row['features'].split(', '), int(row['Label']), learning_r)\n",
        "      CrossEntropyList.append(calculate_cross_entropy_loss(df_data_valid, theta))\n",
        "\n",
        "  return theta, CrossEntropyList\n",
        "\n",
        "def test_logistic_regression(df_data, theta_test, name):\n",
        "  \n",
        "  predict = []\n",
        "\n",
        "  for index, row in df_data.iterrows():\n",
        "    tmp = dot_product(theta_test.T, row['features'].split(', '))\n",
        "    predict.append(1 / (1 + np.exp(-1 * tmp)))\n",
        "\n",
        "  y_pred = np.array(predict)\n",
        "\n",
        "  # Decision boundary theorem where prob >= 0.5 is class 1\n",
        "  ones_class_indeces = y_pred >= 0.5 \n",
        "  zeros_class_indeces = y_pred < 0.5 \n",
        "  y_pred[ones_class_indeces] = 1\n",
        "  y_pred[zeros_class_indeces] = 0\n",
        "\n",
        "  print(name, accuracy_score(np.array(df_data['Label']), np.array(np.squeeze(y_pred))))"
      ],
      "execution_count": null,
      "outputs": []
    },
    {
      "cell_type": "code",
      "metadata": {
        "id": "6NMcXHzSXZ1m"
      },
      "source": [
        "# Feature extraction stage\n",
        "def feature_extraction(df_data, bag_of_words, feature_flag, file_name, trimming_threshold):\n",
        "  '''\n",
        "  This function converts raw data into formatted data. Transfer the whole review text into\n",
        "  a feature vector using some feature extraction methods. Store the formatted data sets in .tsv format\n",
        "\n",
        "  must return a sparse representation of the data using the label-index-value format\n",
        "  {label index[word1]: value1  index[word2]: value2...\\n}\n",
        "\n",
        "  feature extraction function writes three output .tsv files converting original data to formatted data\n",
        "  on <formatted train out>, <formatted valid out>, and <formatted test out>. Each should contain the\n",
        "  formatted presentation for each example printed on a new line. Use \\n to create a new line. \n",
        "  \n",
        "  The format for each line should exactly match:\n",
        "  label\\tindex[word1]:value1\\tindex[word2]:value2\\t...index[wordM]:valueM\\n\n",
        "  \n",
        "  Where above, the first column is label, and the rest are ”index[word]:value” feature elements. \n",
        "  \n",
        "  index[word] is the index of the word in the dictionary, and value is the value of this feature \n",
        "  (in this assignment, the value is one or zero).\n",
        "\n",
        "  <feature flag> that specifies one of two types of feature extraction structures that should \n",
        "  be used by the logistic regression model.\n",
        "  '''\n",
        "  # This line is the whole format written in tsv file\n",
        "  line_formatted = \"\"\n",
        "\n",
        "  # Use this dictionary to store words' repeatitions\n",
        "  tmp_dict = {}\n",
        "  \n",
        "  # Iterate over all reviews\n",
        "  for index, row in df_data.iterrows():\n",
        "\n",
        "    # Get all review words\n",
        "    tmp_dict = Get_review_words(row['words'])\n",
        "\n",
        "    # Get line format needed \n",
        "    line_formatted += Get_Line_Format(tmp_dict, row['Label'], bag_of_words, \n",
        "                                     feature_flag, trimming_threshold)\n",
        "\n",
        "  with open(file_name + '.tsv', 'w') as tsvfile:\n",
        "    tsvfile.write(line_formatted)"
      ],
      "execution_count": null,
      "outputs": []
    },
    {
      "cell_type": "code",
      "metadata": {
        "id": "wA245ZbbFVQ2"
      },
      "source": [
        "def Get_review_words(review_exmp):\n",
        "  '''\n",
        "    This function returns a dictionary of all words and their number \n",
        "    of occurances in the review.\n",
        "  '''\n",
        "  review_dict = {}\n",
        "\n",
        "  for word in review_exmp.split(' '):\n",
        "    # Get this word's freuqency in this example\n",
        "    review_dict[word] = review_dict.get(word, 0) + 1\n",
        "\n",
        "  return review_dict\n",
        "\n",
        "def Get_Line_Format(rev_dict, rev_label, BgOfWd, flag, threshold):\n",
        "  '''\n",
        "    This function returns the required format for feature extraction\n",
        "    function. \n",
        "  '''\n",
        "  line_form = \"\"\n",
        "\n",
        "  # Start formatting the line\n",
        "  line_form += str(rev_label)+ '\\t'\n",
        "  tmp = 0\n",
        "\n",
        "  if flag == 1:\n",
        "    for key in rev_dict:\n",
        "      # For each word get the index from the bag of words\n",
        "      word_index = BgOfWd.get(key, -1)\n",
        "\n",
        "      # Check if word is in BOW; if exists then get the line format needed\n",
        "      if word_index != -1:\n",
        "        if tmp == 0:\n",
        "          tmp = 1\n",
        "          line_form += str(word_index) + ':1'\n",
        "        else:\n",
        "          line_form += ', ' + str(word_index) + ':1'\n",
        "\n",
        "    line_form += '\\n'\n",
        "  \n",
        "  elif flag == 2:\n",
        "\n",
        "    for key in rev_dict:\n",
        "      # For each word get the index from the bag of words\n",
        "      word_index = BgOfWd.get(key, -1)\n",
        "\n",
        "      # Check if word is in BOW; if exists then get the line format needed\n",
        "      if word_index != -1 and rev_dict[key] < threshold:\n",
        "        if tmp == 0:\n",
        "          tmp = 1\n",
        "          line_form += str(word_index) + ':' + str(rev_dict[key])\n",
        "        else:\n",
        "          line_form += ', ' + str(word_index) + ':1' \n",
        "    line_form += '\\n'\n",
        "\n",
        "  else:\n",
        "    print(\"Wrong feature flag\")\n",
        "\n",
        "  return line_form"
      ],
      "execution_count": null,
      "outputs": []
    },
    {
      "cell_type": "code",
      "metadata": {
        "id": "pgGrhuIHpbDV"
      },
      "source": [
        "feature_flag = 1\n",
        "feature_extraction(large_valid, BOW, feature_flag, 'formatted_valid_out', 4)\n",
        "feature_extraction(large_train, BOW, feature_flag, 'formatted_train_out', 4)\n",
        "feature_extraction(large_test, BOW, feature_flag, 'formatted_test_out', 4)\n",
        "\n",
        "col_names = ['Label', 'features']\n",
        "large_train_Model_1 = pd.read_csv('/content/formatted_train_out.tsv', names=col_names, sep='\\t', header=None)\n",
        "large_valid_Model_1 = pd.read_csv('/content/formatted_valid_out.tsv', names=col_names, sep= '\\t', header=None)\n",
        "large_test_Model_1 = pd.read_csv('/content/formatted_test_out.tsv', names=col_names, sep= '\\t', header=None)"
      ],
      "execution_count": null,
      "outputs": []
    },
    {
      "cell_type": "code",
      "metadata": {
        "id": "Nvdoxz5bltEG"
      },
      "source": [
        "feature_flag = 2\n",
        "feature_extraction(large_valid, BOW, feature_flag, 'formatted_valid_out', 4)\n",
        "feature_extraction(large_train, BOW, feature_flag, 'formatted_train_out', 4)\n",
        "feature_extraction(large_test, BOW, feature_flag, 'formatted_test_out', 4)\n",
        "\n",
        "col_names = ['Label', 'features']\n",
        "large_train_Model_2 = pd.read_csv('/content/formatted_train_out.tsv', names=col_names, sep='\\t', header=None)\n",
        "large_valid_Model_2 = pd.read_csv('/content/formatted_valid_out.tsv', names=col_names, sep= '\\t', header=None)\n",
        "large_test_Model_2 = pd.read_csv('/content/formatted_test_out.tsv', names=col_names, sep= '\\t', header=None)"
      ],
      "execution_count": null,
      "outputs": []
    },
    {
      "cell_type": "code",
      "metadata": {
        "id": "BgO3BQCVavZ1"
      },
      "source": [
        "def lr(lr_training_data, lr_validation_data, lr_testing_data, epochs, l_rate):\n",
        "  '''\n",
        "  This function implements a sentiment polarity analyzer using binary\n",
        "  logistic regression. \n",
        "\n",
        "  The function learns the parameters of a binary logistic regression model that\n",
        "  predicts a sentiment polarity (i.e. label) for the corresponding feature vector \n",
        "  of each movie review. \n",
        "  \n",
        "  The function should return the labels of the training and test examples and calculate\n",
        "   training and test error (percentage of incorrectly labeled reviews).\n",
        "  '''\n",
        "  lr_theta, c_entropy_list = train_logistic_regression(lr_training_data, lr_validation_data, epochs, 'No_shuffle', l_rate)\n",
        "  test_logistic_regression(lr_testing_data, lr_theta, 'test accuracy')\n",
        "  test_logistic_regression(lr_training_data, lr_theta, 'train accuracy')\n",
        "\n",
        "  return c_entropy_list, lr_theta"
      ],
      "execution_count": null,
      "outputs": []
    },
    {
      "cell_type": "code",
      "metadata": {
        "colab": {
          "base_uri": "https://localhost:8080/"
        },
        "id": "d4dfvkTTzKHa",
        "outputId": "259a78d3-4c85-4e27-da70-28f933fd7f38"
      },
      "source": [
        "entropyList1, theta_model1 = lr(large_train_Model_1, large_valid_Model_1, large_test_Model_1, 60, 0.1)\n",
        "entropyList2, theta_model2 = lr(large_train_Model_2, large_valid_Model_2, large_test_Model_2, 60, 0.1)"
      ],
      "execution_count": null,
      "outputs": [
        {
          "output_type": "stream",
          "name": "stdout",
          "text": [
            "test accuracy 0.75\n",
            "train accuracy 0.9275\n",
            "test accuracy 0.8175\n",
            "train accuracy 1.0\n"
          ]
        }
      ]
    },
    {
      "cell_type": "code",
      "metadata": {
        "id": "MTWa0zrrpQEo",
        "colab": {
          "base_uri": "https://localhost:8080/",
          "height": 670
        },
        "outputId": "74bf492b-5f19-4926-ec2d-f46c42540163"
      },
      "source": [
        "ep = [i for i in range(1, 61)]\n",
        "\n",
        "fig = plt.figure()\n",
        "plt.figure(figsize=(10, 10))\n",
        "plt.rcParams.update({'font.size': 15})\n",
        "plt.ylabel('Cross entropy loss')\n",
        "plt.xlabel('epochs')\n",
        "plt.plot(np.array(ep), np.array(entropyList1), color='green', marker='o', linestyle='solid', linewidth=2, markersize=2, label = \"Model 1\")\n",
        "plt.plot(np.array(ep), np.array(entropyList2), color='red', marker='o', linestyle='solid', linewidth=2, markersize=2, label = \"Model 2\")\n",
        "plt.ylim(0,6)\n",
        "plt.legend()\n",
        "plt.title(\"Validation cross entropy loss\")\n",
        "\n",
        "label = \"{:.5f}\".format(entropyList1[0])\n",
        "\n",
        "plt.annotate(label, # this is the text\n",
        "              (1,entropyList1[0]), # this is the point to label\n",
        "              textcoords=\"offset points\", # how to position the text\n",
        "              xytext=(10,10), # distance from text to points (x,y)\n",
        "              ha='center') # horizontal alignment can be left, right or center\n",
        "\n",
        "label = \"{:.5f}\".format(entropyList2[0])\n",
        "\n",
        "plt.annotate(label, # this is the text\n",
        "              (1,entropyList2[0]), # this is the point to label\n",
        "              textcoords=\"offset points\", # how to position the text\n",
        "              xytext=(10,10), # distance from text to points (x,y)\n",
        "              ha='center') # horizontal alignment can be left, right or center\n",
        "\n",
        "label = \"{:.5f}\".format(entropyList1[59])\n",
        "\n",
        "plt.annotate(label, # this is the text\n",
        "              (60,entropyList1[59]), # this is the point to label\n",
        "              textcoords=\"offset points\", # how to position the text\n",
        "              xytext=(0,10), # distance from text to points (x,y)\n",
        "              ha='center') # horizontal alignment can be left, right or center\n",
        "\n",
        "label = \"{:.5f}\".format(entropyList2[59])\n",
        "\n",
        "plt.annotate(label, # this is the text\n",
        "              (60,entropyList2[59]), # this is the point to label\n",
        "              textcoords=\"offset points\", # how to position the text\n",
        "              xytext=(0,10), # distance from text to points (x,y)\n",
        "              ha='center') # horizontal alignment can be left, right or center             "
      ],
      "execution_count": null,
      "outputs": [
        {
          "output_type": "execute_result",
          "data": {
            "text/plain": [
              "Text(0, 10, '0.60296')"
            ]
          },
          "metadata": {},
          "execution_count": 42
        },
        {
          "output_type": "display_data",
          "data": {
            "text/plain": [
              "<Figure size 432x288 with 0 Axes>"
            ]
          },
          "metadata": {}
        },
        {
          "output_type": "display_data",
          "data": {
            "image/png": "[encoded data removed]",
            "text/plain": [
              "<Figure size 720x720 with 1 Axes>"
            ]
          },
          "metadata": {
            "needs_background": "light"
          }
        }
      ]
    }
  ]
}