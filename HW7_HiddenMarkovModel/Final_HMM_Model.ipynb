{
  "nbformat": 4,
  "nbformat_minor": 0,
  "metadata": {
    "colab": {
      "name": "Final_HMM_Model.ipynb",
      "provenance": [],
      "collapsed_sections": []
    },
    "kernelspec": {
      "name": "python3",
      "display_name": "Python 3"
    },
    "language_info": {
      "name": "python"
    }
  },
  "cells": [
    {
      "cell_type": "code",
      "metadata": {
        "id": "-eF2d46rshZt",
        "colab": {
          "base_uri": "https://localhost:8080/",
          "height": 69
        },
        "outputId": "04803d53-ccb0-4cb7-b441-3774b288edec"
      },
      "source": [
        "'''\n",
        "Summary In this assignment you will implement a new named entity recognition system using Hidden\n",
        "Markov Models. You will begin by going through some multiple choice warm-up problems to build your\n",
        "intuition for these models and then use that intuition to build your own HMM models.\n",
        "'''"
      ],
      "execution_count": 1,
      "outputs": [
        {
          "output_type": "execute_result",
          "data": {
            "application/vnd.google.colaboratory.intrinsic+json": {
              "type": "string"
            },
            "text/plain": [
              "'\\nSummary In this assignment you will implement a new named entity recognition system using Hidden\\nMarkov Models. You will begin by going through some multiple choice warm-up problems to build your\\nintuition for these models and then use that intuition to build your own HMM models.\\n'"
            ]
          },
          "metadata": {},
          "execution_count": 1
        }
      ]
    },
    {
      "cell_type": "code",
      "metadata": {
        "colab": {
          "base_uri": "https://localhost:8080/"
        },
        "id": "NFd6PGKGfnFb",
        "outputId": "6e6fb24c-9661-450a-f5ed-16a68b072845"
      },
      "source": [
        "from google.colab import drive\n",
        "drive.mount('/content/drive')"
      ],
      "execution_count": 2,
      "outputs": [
        {
          "output_type": "stream",
          "name": "stdout",
          "text": [
            "Drive already mounted at /content/drive; to attempt to forcibly remount, call drive.mount(\"/content/drive\", force_remount=True).\n"
          ]
        }
      ]
    },
    {
      "cell_type": "code",
      "metadata": {
        "id": "wTpPGiIUs7zp"
      },
      "source": [
        "import pandas as pd\n",
        "import matplotlib.pyplot as plt  \n",
        "import numpy as np\n",
        "import csv\n",
        "import sys\n",
        "import random\n",
        "from random import seed\n",
        "from random import randint\n",
        "from sklearn.metrics import accuracy_score\n",
        "from bs4 import BeautifulSoup\n",
        "from random import randrange\n",
        "from scipy.special import expit\n",
        "from scipy.special import softmax\n",
        "\n",
        "np.set_printoptions(precision=10)\n",
        "pd.option_context('display.max_rows', None, 'display.max_columns', None)  # more options can be specified also\n",
        "np.set_printoptions(threshold=sys.maxsize)\n",
        "seed(1)\n",
        "\n",
        "np.set_printoptions(precision=10, )\n",
        "pd.options.display.float_format = '{:.2f}'.format\n",
        "\n",
        "%precision 10\n",
        "!cp -r /content/drive/MyDrive/10601_DataSets /content"
      ],
      "execution_count": 3,
      "outputs": []
    },
    {
      "cell_type": "code",
      "metadata": {
        "id": "Vg5Gb6Xbo6rS"
      },
      "source": [
        "def Print_DF(df):\n",
        "  with pd.option_context('display.max_rows', None, 'display.max_columns', None):  # more options can be specified also\n",
        "    print(df)\n",
        "\n",
        "def read_csv_files(path):\n",
        "  df_read = pd.read_csv(path, quoting=csv.QUOTE_NONE, encoding='utf-8', sep='\\n', header=None, keep_default_na=False)\n",
        "  print(\"Data shape: \", df_read.shape)\n",
        "  df_read = df_read[0].str.split(' ', expand=True)\n",
        "\n",
        "  return df_read\n",
        "\n",
        "def Get_Words_Tags_DFs(df):\n",
        "  words = pd.DataFrame()\n",
        "  tags = pd.DataFrame()\n",
        "\n",
        "  for i in df.columns:\n",
        "    tmp = df[i].str.split('_', expand=True)\n",
        "    if tmp.shape[1] == 1:\n",
        "      continue\n",
        "    words = pd.concat([words, tmp[0]], axis = 1, ignore_index=True)\n",
        "    tags = pd.concat([tags, tmp[1]], axis = 1, ignore_index=True)\n",
        "\n",
        "  return words, tags"
      ],
      "execution_count": 4,
      "outputs": []
    },
    {
      "cell_type": "code",
      "metadata": {
        "colab": {
          "base_uri": "https://localhost:8080/"
        },
        "id": "0zmphNSqtCIR",
        "outputId": "9b3d4a96-d12c-443d-f952-884c72245061"
      },
      "source": [
        "large_train = read_csv_files('/content/10601_DataSets/HW7/fulldata/trainwords.txt')\n",
        "large_test = read_csv_files('/content/10601_DataSets/HW7/fulldata/testwords.txt')\n",
        "index_to_word = read_csv_files('/content/10601_DataSets/HW7/fulldata/index_to_word.txt')\n",
        "index_to_tag = read_csv_files('/content/10601_DataSets/HW7/fulldata/index_to_tag.txt')\n",
        "\n",
        "train_words, train_tags = Get_Words_Tags_DFs(large_train)\n",
        "test_words, test_tags = Get_Words_Tags_DFs(large_test)"
      ],
      "execution_count": 5,
      "outputs": [
        {
          "output_type": "stream",
          "name": "stdout",
          "text": [
            "Data shape:  (14041, 1)\n",
            "Data shape:  (3250, 1)\n",
            "Data shape:  (8127, 1)\n",
            "Data shape:  (9, 1)\n"
          ]
        }
      ]
    },
    {
      "cell_type": "code",
      "metadata": {
        "id": "cVORhyAjCooO"
      },
      "source": [
        "def replace_tag_with_index(df_tags, df_total_tags):\n",
        "  first = 1\n",
        "  for index, row in df_total_tags.iterrows():\n",
        "    if first == 1:\n",
        "      df = df_tags.replace(row[0], index)\n",
        "      first = 0\n",
        "    else:\n",
        "      df = df.replace(row[0], index)\n",
        "\n",
        "  return df"
      ],
      "execution_count": 6,
      "outputs": []
    },
    {
      "cell_type": "code",
      "metadata": {
        "id": "rqPzzrvFEev8"
      },
      "source": [
        "tmp = index_to_word.to_dict()[0]\n",
        "dict_of_words = dict((y,x) for x,y in tmp.items())\n",
        "tmp = index_to_tag.to_dict()[0]\n",
        "dict_of_tags = dict((y,x) for x,y in tmp.items())"
      ],
      "execution_count": 7,
      "outputs": []
    },
    {
      "cell_type": "code",
      "metadata": {
        "id": "W0F4I_2Wxi36"
      },
      "source": [
        "def states_from_words_to_numbers(states, Dict_Of_Tags):\n",
        "  states_alter = {}\n",
        "  for key in states:\n",
        "    from_state, to_state = key.split('_')\n",
        "    num1 = Dict_Of_Tags[from_state]\n",
        "    num2 = Dict_Of_Tags[to_state]\n",
        "    key_new = str(num1) + '_' + str(num2)\n",
        "    states_alter[key_new] = states[key]\n",
        "  return states_alter"
      ],
      "execution_count": 8,
      "outputs": []
    },
    {
      "cell_type": "code",
      "metadata": {
        "id": "HQwW6UAjVvzP"
      },
      "source": [
        "def Learn_HMM_Priors(df_tags, df_total_tags, Dict_Of_Tags):\n",
        "  state_in_first_word = {}\n",
        "  priors = {}\n",
        "\n",
        "  # Loop over all tags in the 1st words in all training examples\n",
        "  for tag in df_tags:\n",
        "    tag_value = Dict_Of_Tags.get(tag, 0)\n",
        "    # Get Number of times a state is associated with the 1st word and increase by 1\n",
        "    state_in_first_word[tag_value] = state_in_first_word.get(tag_value, 0) + 1\n",
        "\n",
        "  # Get the denominator for prior equation\n",
        "  denominator = sum(state_in_first_word.values()) + len(Dict_Of_Tags)\n",
        "\n",
        "  # Loop over all tags available in the model\n",
        "  for tag in Dict_Of_Tags:\n",
        "    tag_value = Dict_Of_Tags[tag]\n",
        "    # Get Number of times a state is associated with the 1st word\n",
        "    Num = state_in_first_word.get(tag_value, 0)\n",
        "    # Apply prior equation from MLE \n",
        "    priors[tag_value] = (Num + 1) / (denominator)\n",
        "\n",
        "  return np.fromiter(priors.values(), dtype=float)"
      ],
      "execution_count": 9,
      "outputs": []
    },
    {
      "cell_type": "code",
      "metadata": {
        "id": "Qs6JJujncpE6"
      },
      "source": [
        "def Learn_HMM_Transition(df_tags, Dict_Of_Tags):\n",
        "  state_transition = {}\n",
        "\n",
        "  # Get total number of tags in the system\n",
        "  k = len(Dict_Of_Tags)\n",
        "\n",
        "  transition_matrix = np.zeros((k, k))\n",
        "\n",
        "  for index, row in df_tags.iterrows():\n",
        "    for tag in range(len(row) - 1):\n",
        "      # None isn't removed from dataset.\n",
        "      if(row[tag] == None):\n",
        "        break\n",
        "      \n",
        "      if row[tag+1] == None:\n",
        "        continue\n",
        "      \n",
        "      key = row[tag] + '_' + row[tag+1]\n",
        "\n",
        "      state_transition[key] = state_transition.get(key, 0) + 1\n",
        "\n",
        "  transitions = states_from_words_to_numbers(state_transition, Dict_Of_Tags)\n",
        "\n",
        "  denominator = 0\n",
        "  \n",
        "  for i in range(k):\n",
        "    denominator = 0\n",
        "    # Calculate the denominator\n",
        "    for j in range(k):\n",
        "      key = str(i) + '_' + str(j)\n",
        "      denominator += transitions.get(key, 0)\n",
        "    \n",
        "    denominator += k\n",
        "\n",
        "    for j in range(k):\n",
        "      key = str(i) + '_' + str(j)\n",
        "      value = transitions.get(key, 0)\n",
        "      a_ij = (value + 1) / denominator\n",
        "      transition_matrix[i][j] = a_ij\n",
        "\n",
        "  return transition_matrix"
      ],
      "execution_count": 10,
      "outputs": []
    },
    {
      "cell_type": "code",
      "metadata": {
        "id": "NAgE8zmHSMlf"
      },
      "source": [
        "def Learn_HMM_Emissions(df_train, Dict_Of_Tags, Dict_Of_Words):\n",
        "  states_word_counts_dict = df_train.stack().value_counts().to_dict()\n",
        "  states_count = {}\n",
        "  words_states_count_enumerated = {}\n",
        "\n",
        "  for key in states_word_counts_dict:\n",
        "    word, state = key.split('_')\n",
        "    if word == None:\n",
        "      continue\n",
        "    count = states_word_counts_dict[key]\n",
        "    state = Dict_Of_Tags[state]\n",
        "    word = Dict_Of_Words[word]\n",
        "    new_key = str(word) + '_' + str(state)\n",
        "\n",
        "    words_states_count_enumerated[new_key] = count\n",
        "    states_count[state] = states_count.get(state, 0) + count\n",
        "\n",
        "  number_of_states = len(Dict_Of_Tags)\n",
        "  number_of_words = len(Dict_Of_Words)\n",
        "\n",
        "  emission_matrix = np.zeros((number_of_states, number_of_words))\n",
        "\n",
        "  for i in range(number_of_states):\n",
        "    for j in range(number_of_words):\n",
        "      key = str(j) + '_' + str(i) \n",
        "      count =  words_states_count_enumerated.get(key, 0) + 1\n",
        "      denominator = states_count[i]\n",
        "      b_ij = count / (denominator + number_of_words)\n",
        "      emission_matrix[i][j] = b_ij\n",
        "\n",
        "  return emission_matrix"
      ],
      "execution_count": 11,
      "outputs": []
    },
    {
      "cell_type": "code",
      "metadata": {
        "id": "fvL0vWCJ4y7d"
      },
      "source": [
        "def Learn_HMM_Parameters(total_states_words_df, df_words, df_tags, df_Ind2Tag, Dict_Of_Tags, Dict_Of_Words):\n",
        "  '''\n",
        "  This function implements an algorithm to learn \n",
        "  the hidden markov model parameters needed to apply \n",
        "  the forward backward algorithm. It estimates 3 sets of parameters:\n",
        "  1. The initialization probabilities (pi)\n",
        "  2. Transition probabilities (A)\n",
        "  3. Emission probabilities (B)\n",
        "  Each of these probabilities are modeled useing multinomial and the estimation\n",
        "  is done using Maximum likelihood estimation.\n",
        "  Equations used:\n",
        "  1. P(y_1 = state j) = pi_j.\n",
        "  2. P(y_t = state_k | y_t-1 = state_j) = ajk\n",
        "  3. P(xt = kjyt = j) = bjk\n",
        "  '''\n",
        "  # Send 1st word's tag and all of model tags to calculate prior probabilities\n",
        "  priors = Learn_HMM_Priors(df_tags[0], df_Ind2Tag[0], Dict_Of_Tags)\n",
        "  print(\"Prior matrix Sanity check: \", priors.sum(axis=0))\n",
        "  \n",
        "  # Get transition matrix\n",
        "  transitions = Learn_HMM_Transition(df_tags, Dict_Of_Tags)\n",
        "  print(\"Transitions matrix Sanity check: \", transitions.sum(axis=1))\n",
        "\n",
        "  # Get emission matrix\n",
        "  emissions = Learn_HMM_Emissions(total_states_words_df, Dict_Of_Tags, Dict_Of_Words)\n",
        "  print(\"Emission matrix Sanity check: \", emissions.sum(axis=1))\n",
        "\n",
        "  return priors, transitions, emissions"
      ],
      "execution_count": 12,
      "outputs": []
    },
    {
      "cell_type": "code",
      "metadata": {
        "id": "-KuCp2Gs2Efr"
      },
      "source": [
        "def LOGSUMEXP(x, y):\n",
        "  if x == float(\"-inf\"):\n",
        "    return y\n",
        "  if y == float(\"-inf\"):\n",
        "    return x\n",
        "  \n",
        "  m = 0.0\n",
        "  mm = 0.0\n",
        "  if x >= y:\n",
        "    m = x\n",
        "    mm = y\n",
        "  else:\n",
        "    m = y\n",
        "    mm = x\n",
        "\n",
        "  return m + np.log(1 + np.exp(mm - m))"
      ],
      "execution_count": 14,
      "outputs": []
    },
    {
      "cell_type": "code",
      "metadata": {
        "id": "2gqNs9RObKQZ"
      },
      "source": [
        "def forward_algorithm(example, Emission, Transition, Prior, Dict_Of_Tags, Dict_Of_Words):\n",
        "\n",
        "  number_of_states = len(Dict_Of_Tags)\n",
        " \n",
        "  WORDS_index = []\n",
        "\n",
        "  for word in example:\n",
        "    if(word == None):\n",
        "      break\n",
        "    # Save the current word index\n",
        "    WORDS_index.append(Dict_Of_Words[word])\n",
        "\n",
        "  num_example_words = len(WORDS_index)  \n",
        "\n",
        "  # Alpha matrix is (Distinct_words_count x Distinct_states_count)\n",
        "  alpha_mat = np.zeros((num_example_words, number_of_states))\n",
        "\n",
        "  # Moving along words in the example\n",
        "  for word in range(num_example_words):\n",
        "    # Move along all states \n",
        "    for state in range(number_of_states):\n",
        "      if word == 0:\n",
        "        alpha_mat[word][state] = np.log(Prior[state]) + np.log(Emission[state][WORDS_index[word]])\n",
        "\n",
        "      else:\n",
        "        summation_term = np.float64(0.0)\n",
        "        word_prev = word - 1\n",
        "\n",
        "        for state_iter in range(number_of_states):\n",
        "          tmp = alpha_mat[word_prev][state_iter] + np.log(Transition[state_iter][state])\n",
        "          if state_iter == 0:\n",
        "            summation_term = tmp\n",
        "          else:\n",
        "            summation_term = LOGSUMEXP(summation_term, tmp)\n",
        "\n",
        "        alpha_mat[word][state] = np.log(Emission[state][WORDS_index[word]]) + summation_term\n",
        "\n",
        "  return alpha_mat"
      ],
      "execution_count": 15,
      "outputs": []
    },
    {
      "cell_type": "code",
      "metadata": {
        "id": "uSyd_6q3__8e"
      },
      "source": [
        "def backward_algorithm(example, Emission, Transition, Prior, Dict_Of_Tags, Dict_Of_Words):\n",
        "\n",
        "  number_of_states = len(Dict_Of_Tags)\n",
        " \n",
        "  WORDS_index = []\n",
        "\n",
        "  for word in example:\n",
        "    if(word == None):\n",
        "      break\n",
        "    # Save the current word index\n",
        "    WORDS_index.append(Dict_Of_Words[word])\n",
        "\n",
        "  num_example_words = len(WORDS_index)  \n",
        "\n",
        "  # Alpha matrix is (Distinct_words_count x Distinct_states_count)\n",
        "  beta_mat = np.zeros((num_example_words, number_of_states))\n",
        "\n",
        "  # Reverse words so that we start from the end and work the way back to the first word\n",
        "  WORDS_index.reverse()\n",
        "\n",
        "  # Moving along words in the example\n",
        "  for word in range(num_example_words):\n",
        "    # Move along all states \n",
        "    for state in range(number_of_states):\n",
        "      if word == 0:\n",
        "        # nitialize all states in this case to 1 only\n",
        "        beta_mat[word][state] = np.log(1)\n",
        "\n",
        "      else:\n",
        "        summation_term = np.float64(0.0)\n",
        "        word_prev = word - 1\n",
        "\n",
        "        for state_iter in range(number_of_states):\n",
        "          tmp = np.log(Emission[state_iter][WORDS_index[word]]) + beta_mat[word_prev][state_iter] + np.log(Transition[state][state_iter])\n",
        "          \n",
        "          if state_iter == 0:\n",
        "            summation_term = tmp\n",
        "          else:\n",
        "            summation_term = LOGSUMEXP(summation_term, tmp)\n",
        "\n",
        "        beta_mat[word][state] = summation_term\n",
        "        \n",
        "  return np.flipud(beta_mat)"
      ],
      "execution_count": 16,
      "outputs": []
    },
    {
      "cell_type": "code",
      "metadata": {
        "id": "VDoX5j_S8_Uz"
      },
      "source": [
        "from numpy import linalg as LA\n",
        "\n",
        "def Forward_backward_algorithm(df_test, Emission, Transition, Prior, Dict_Of_Tags, Dict_Of_Words):\n",
        "  \n",
        "  test_output = \"\"\n",
        "  log_likeli_hood = []\n",
        "\n",
        "  for index, row in df_test.iterrows():\n",
        "    alpha_mat = forward_algorithm(row, Emission, Transition, Prior, Dict_Of_Tags, Dict_Of_Words)\n",
        "    beta_mat = backward_algorithm(row, Emission, Transition, Prior, Dict_Of_Tags, Dict_Of_Words)\n",
        "\n",
        "    alpha_mat = np.exp(alpha_mat)\n",
        "    beta_mat = np.exp(beta_mat)\n",
        "\n",
        "    log_likeli_hood.append(np.log(np.sum(alpha_mat[-1])) / alpha_mat.shape[1]) \n",
        "    \n",
        "    denomenator_mat = np.sum(np.multiply(alpha_mat, beta_mat), axis=1)\n",
        "    gamma_mat = np.zeros((alpha_mat.shape[0], alpha_mat.shape[1]))\n",
        "\n",
        "    NumOfWordsinExample = alpha_mat.shape[0] \n",
        "    NumOfStates = alpha_mat.shape[1] \n",
        "\n",
        "    for word in range(NumOfWordsinExample):\n",
        "      for state in range(NumOfStates):\n",
        "        gamma_mat[word][state] = alpha_mat[word][state] * beta_mat[word][state] / denomenator_mat[word]\n",
        "    \n",
        "    for i in range(NumOfWordsinExample):\n",
        "      index_of_max_probability = np.argmax(gamma_mat[i])\n",
        "\n",
        "      value = list(Dict_Of_Tags.keys())[list(Dict_Of_Tags.values()).index(index_of_max_probability)]\n",
        "      test_output += row[i] + '_' + value + ' '\n",
        "\n",
        "    test_output += \"\\n\"  \n",
        "  \n",
        "  with open('predictedtest.txt', 'w') as f:\n",
        "    f.write(test_output)\n",
        "\n",
        "  return np.sum(np.array(log_likeli_hood) / df_test.shape[0])"
      ],
      "execution_count": 24,
      "outputs": []
    },
    {
      "cell_type": "code",
      "metadata": {
        "id": "N1FXHN0W_1tw"
      },
      "source": [
        "def Run_HMM(train_df, Train_Words, train_tags, test_df,\n",
        "            Index_To_Tag, Dict_Of_Tags, Dict_Of_Words):\n",
        "\n",
        "  p_mat, t_mat, e_mat = Learn_HMM_Parameters(train_df, Train_Words, \n",
        "                                                                 train_tags, Index_To_Tag, \n",
        "                                                                 Dict_Of_Tags, Dict_Of_Words)\n",
        "  \n",
        "  ll =  Forward_backward_algorithm(test_df, e_mat, t_mat, p_mat, Dict_Of_Tags, Dict_Of_Words)\n",
        "  print(\"Average log likelihood: \", ll)\n",
        "\n",
        "  return ll"
      ],
      "execution_count": 27,
      "outputs": []
    },
    {
      "cell_type": "code",
      "metadata": {
        "id": "1Zj3tvVwqrPq",
        "colab": {
          "base_uri": "https://localhost:8080/"
        },
        "outputId": "75b93015-efa5-4cf8-ebbd-6214955b056e"
      },
      "source": [
        "large_train = read_csv_files('/content/10601_DataSets/HW7/fulldata/trainwords.txt')\n",
        "large_test = read_csv_files('/content/10601_DataSets/HW7/fulldata/testwords.txt')\n",
        "index_to_word = read_csv_files('/content/10601_DataSets/HW7/fulldata/index_to_word.txt')\n",
        "index_to_tag = read_csv_files('/content/10601_DataSets/HW7/fulldata/index_to_tag.txt')\n",
        "\n",
        "test_ll = []\n",
        "train_ll = []\n",
        "\n",
        "train_words, train_tags = Get_Words_Tags_DFs(pd.DataFrame(large_train[:10]))\n",
        "test_words, test_tags = Get_Words_Tags_DFs(large_test[:10])\n",
        "test_ll.append(Run_HMM(large_train, train_words, train_tags, test_words,\n",
        "              index_to_tag, dict_of_tags, dict_of_words))\n",
        "train_ll.append(Run_HMM(large_train, train_words, train_tags, train_words,\n",
        "               index_to_tag, dict_of_tags, dict_of_words))\n",
        "\n",
        "print()\n",
        "train_words, train_tags = Get_Words_Tags_DFs(large_train[:1000])\n",
        "test_words, test_tags = Get_Words_Tags_DFs(large_test[:1000])\n",
        "test_ll.append(Run_HMM(large_train, train_words, train_tags, test_words,\n",
        "              index_to_tag, dict_of_tags, dict_of_words))\n",
        "train_ll.append(Run_HMM(large_train, train_words, train_tags, train_words,\n",
        "               index_to_tag, dict_of_tags, dict_of_words))\n",
        "\n",
        "print()\n",
        "train_words, train_tags = Get_Words_Tags_DFs(large_train[:3000])\n",
        "test_words, test_tags = Get_Words_Tags_DFs(large_test[:3000])\n",
        "test_ll.append(Run_HMM(large_train, train_words, train_tags, test_words,\n",
        "              index_to_tag, dict_of_tags, dict_of_words))\n",
        "train_ll.append(Run_HMM(large_train, train_words, train_tags, train_words,\n",
        "               index_to_tag, dict_of_tags, dict_of_words))\n",
        "\n",
        "\n",
        "print()\n",
        "train_words, train_tags = Get_Words_Tags_DFs(large_train)\n",
        "test_words, test_tags = Get_Words_Tags_DFs(large_test)\n",
        "train_ll.append(Run_HMM(large_train, train_words, train_tags, train_words,\n",
        "               index_to_tag, dict_of_tags, dict_of_words))\n",
        "test_ll.append(Run_HMM(large_train, train_words, train_tags, test_words,\n",
        "              index_to_tag, dict_of_tags, dict_of_words))"
      ],
      "execution_count": 46,
      "outputs": [
        {
          "output_type": "stream",
          "name": "stdout",
          "text": [
            "Data shape:  (14041, 1)\n",
            "Data shape:  (3250, 1)\n",
            "Data shape:  (8127, 1)\n",
            "Data shape:  (9, 1)\n",
            "Prior matrix Sanity check:  0.9999999999999999\n",
            "Transitions matrix Sanity check:  [1. 1. 1. 1. 1. 1. 1. 1. 1.]\n",
            "Emission matrix Sanity check:  [1. 1. 1. 1. 1. 1. 1. 1. 1.]\n",
            "Average log likelihood:  -21.6886012290039\n",
            "Prior matrix Sanity check:  0.9999999999999999\n",
            "Transitions matrix Sanity check:  [1. 1. 1. 1. 1. 1. 1. 1. 1.]\n",
            "Emission matrix Sanity check:  [1. 1. 1. 1. 1. 1. 1. 1. 1.]\n",
            "Average log likelihood:  -18.364178934775975\n",
            "\n",
            "Prior matrix Sanity check:  1.0\n",
            "Transitions matrix Sanity check:  [1. 1. 1. 1. 1. 1. 1. 1. 1.]\n",
            "Emission matrix Sanity check:  [1. 1. 1. 1. 1. 1. 1. 1. 1.]\n",
            "Average log likelihood:  -9.819977425625897\n",
            "Prior matrix Sanity check:  1.0\n",
            "Transitions matrix Sanity check:  [1. 1. 1. 1. 1. 1. 1. 1. 1.]\n",
            "Emission matrix Sanity check:  [1. 1. 1. 1. 1. 1. 1. 1. 1.]\n",
            "Average log likelihood:  -8.853274152614468\n",
            "\n",
            "Prior matrix Sanity check:  1.0\n",
            "Transitions matrix Sanity check:  [1. 1. 1. 1. 1. 1. 1. 1. 1.]\n",
            "Emission matrix Sanity check:  [1. 1. 1. 1. 1. 1. 1. 1. 1.]\n",
            "Average log likelihood:  -10.607773597160243\n",
            "Prior matrix Sanity check:  1.0\n",
            "Transitions matrix Sanity check:  [1. 1. 1. 1. 1. 1. 1. 1. 1.]\n",
            "Emission matrix Sanity check:  [1. 1. 1. 1. 1. 1. 1. 1. 1.]\n",
            "Average log likelihood:  -10.401010214500847\n",
            "\n",
            "Prior matrix Sanity check:  1.0\n",
            "Transitions matrix Sanity check:  [1. 1. 1. 1. 1. 1. 1. 1. 1.]\n",
            "Emission matrix Sanity check:  [1. 1. 1. 1. 1. 1. 1. 1. 1.]\n",
            "Average log likelihood:  -10.887326906520716\n",
            "Prior matrix Sanity check:  1.0\n",
            "Transitions matrix Sanity check:  [1. 1. 1. 1. 1. 1. 1. 1. 1.]\n",
            "Emission matrix Sanity check:  [1. 1. 1. 1. 1. 1. 1. 1. 1.]\n",
            "Average log likelihood:  -10.55131902555732\n"
          ]
        }
      ]
    },
    {
      "cell_type": "code",
      "metadata": {
        "colab": {
          "base_uri": "https://localhost:8080/",
          "height": 650
        },
        "id": "NVTdvB7V_8LU",
        "outputId": "da2cf837-ddfe-43c4-8874-7b56c7b833ab"
      },
      "source": [
        "import numpy as np \n",
        "x = [10, 1000, 3000, 10000]\n",
        "fig = plt.figure()\n",
        "plt.figure(figsize=(10, 10))\n",
        "plt.rcParams.update({'font.size': 15})\n",
        "plt.ylabel('Average LogLikelihood')\n",
        "plt.xlabel('Number of sequences')\n",
        "plt.plot(test_ll, color='green', marker='o', linestyle='solid', linewidth=2, markersize=2, label = \"Training Log Like lihood\")\n",
        "plt.plot(train_ll, color='red', marker='o', linestyle='solid', linewidth=2, markersize=2, label = \"Testing Log Like lihood\")\n",
        "plt.xticks(range(len(x)), x)\n",
        "plt.legend()"
      ],
      "execution_count": 54,
      "outputs": [
        {
          "output_type": "execute_result",
          "data": {
            "text/plain": [
              "<matplotlib.legend.Legend at 0x7f51e5e38790>"
            ]
          },
          "metadata": {},
          "execution_count": 54
        },
        {
          "output_type": "display_data",
          "data": {
            "text/plain": [
              "<Figure size 432x288 with 0 Axes>"
            ]
          },
          "metadata": {}
        },
        {
          "output_type": "display_data",
          "data": {
            "image/png": "[encoded data removed]",
            "text/plain": [
              "<Figure size 720x720 with 1 Axes>"
            ]
          },
          "metadata": {
            "needs_background": "light"
          }
        }
      ]
    }
  ]
}